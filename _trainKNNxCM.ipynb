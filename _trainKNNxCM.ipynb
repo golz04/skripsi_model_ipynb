{
 "cells": [
  {
   "cell_type": "code",
   "execution_count": 8,
   "metadata": {},
   "outputs": [],
   "source": [
    "import os\n",
    "import cv2\n",
    "import pickle\n",
    "import numpy as np\n",
    "from sklearn.neighbors import KNeighborsClassifier"
   ]
  },
  {
   "cell_type": "code",
   "execution_count": 9,
   "metadata": {},
   "outputs": [],
   "source": [
    "# Mendefinisikan direktori dataset\n",
    "dataset_dir = \"./../dataset_nitrogen\""
   ]
  },
  {
   "cell_type": "code",
   "execution_count": 10,
   "metadata": {},
   "outputs": [],
   "source": [
    "# Mengonversi label ke dalam bentuk numerik\n",
    "label_mapping = {}"
   ]
  },
  {
   "cell_type": "code",
   "execution_count": 11,
   "metadata": {},
   "outputs": [],
   "source": [
    "# Membaca label_mapping dari file .pkl\n",
    "with open(\"./save_model/knn_model.pkl\", \"rb\") as f:\n",
    "    knn_model_custom = pickle.load(f)\n",
    "    label_mapping = knn_model_custom[\"label_mapping\"]"
   ]
  },
  {
   "cell_type": "code",
   "execution_count": 12,
   "metadata": {},
   "outputs": [],
   "source": [
    "# Membaca model KNN dari file .pkl\n",
    "knn = knn_model_custom[\"model\"]"
   ]
  },
  {
   "cell_type": "code",
   "execution_count": 13,
   "metadata": {},
   "outputs": [],
   "source": [
    "# Fungsi untuk memprediksi label gambar\n",
    "def predict_label(image_path):\n",
    "    # Membaca dan mengubah ukuran gambar\n",
    "    image = cv2.imread(image_path)\n",
    "    resized_image = cv2.resize(image, (32, 32))\n",
    "\n",
    "    # Ekstraksi fitur RGB, HSV, dan Grayscale\n",
    "    rgb_image = cv2.cvtColor(resized_image, cv2.COLOR_BGR2RGB).flatten()\n",
    "    hsv_image = cv2.cvtColor(resized_image, cv2.COLOR_BGR2HSV).flatten()\n",
    "    gray_image = cv2.cvtColor(resized_image, cv2.COLOR_BGR2GRAY).flatten()\n",
    "\n",
    "    # Menggabungkan fitur menjadi satu vektor fitur\n",
    "    feature_vector = np.concatenate((rgb_image, hsv_image, gray_image))\n",
    "\n",
    "    # Melakukan prediksi menggunakan model KNN\n",
    "    label_index = knn.predict([feature_vector])[0]\n",
    "    predicted_label = label_mapping[label_index]\n",
    "\n",
    "    return predicted_label"
   ]
  },
  {
   "cell_type": "code",
   "execution_count": 14,
   "metadata": {},
   "outputs": [
    {
     "name": "stdout",
     "output_type": "stream",
     "text": [
      "Predicted Label: 4\n"
     ]
    }
   ],
   "source": [
    "# Contoh penggunaan fungsi predict_label\n",
    "image_path = \"./../dataset_nitrogen_test/4/SWAPT3_065.jpg\"\n",
    "predicted_label = predict_label(image_path)\n",
    "print(\"Predicted Label:\", predicted_label)"
   ]
  }
 ],
 "metadata": {
  "kernelspec": {
   "display_name": "Python 3",
   "language": "python",
   "name": "python3"
  },
  "language_info": {
   "codemirror_mode": {
    "name": "ipython",
    "version": 3
   },
   "file_extension": ".py",
   "mimetype": "text/x-python",
   "name": "python",
   "nbconvert_exporter": "python",
   "pygments_lexer": "ipython3",
   "version": "3.10.11"
  },
  "orig_nbformat": 4
 },
 "nbformat": 4,
 "nbformat_minor": 2
}
