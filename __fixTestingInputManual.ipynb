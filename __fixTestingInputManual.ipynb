{
 "cells": [
  {
   "cell_type": "code",
   "execution_count": 1,
   "metadata": {},
   "outputs": [],
   "source": [
    "import cv2\n",
    "import numpy as np\n",
    "import pickle"
   ]
  },
  {
   "cell_type": "code",
   "execution_count": 2,
   "metadata": {},
   "outputs": [],
   "source": [
    "# Fungsi untuk memuat model KNN dan label mapping\n",
    "def load_model():\n",
    "    with open(\"save_model/knn_model.pkl\", \"rb\") as f:\n",
    "        knn_model_custom = pickle.load(f)\n",
    "    return knn_model_custom"
   ]
  },
  {
   "cell_type": "code",
   "execution_count": 3,
   "metadata": {},
   "outputs": [],
   "source": [
    "# Fungsi untuk mengklasifikasikan gambar tunggal\n",
    "def classify_image(image_path, knn_model_custom):\n",
    "    # Memuat model KNN dan label mapping\n",
    "    knn_model = knn_model_custom[\"model\"]\n",
    "    label_mapping = knn_model_custom[\"label_mapping\"]\n",
    "\n",
    "    # Mengubah gambar menjadi fitur\n",
    "    image = cv2.imread(image_path)\n",
    "    resized_image = cv2.resize(image, (32, 32))\n",
    "\n",
    "    # Penghilangan background\n",
    "    mask = np.zeros(resized_image.shape[:2], dtype=np.uint8)\n",
    "    gray_image = cv2.cvtColor(resized_image, cv2.COLOR_BGR2GRAY)\n",
    "    _, threshold = cv2.threshold(gray_image, 0, 255, cv2.THRESH_BINARY_INV+cv2.THRESH_OTSU)\n",
    "    contours, _ = cv2.findContours(threshold, cv2.RETR_EXTERNAL, cv2.CHAIN_APPROX_SIMPLE)\n",
    "    cv2.drawContours(mask, contours, -1, (255), thickness=cv2.FILLED)\n",
    "    masked_image = cv2.bitwise_and(resized_image, resized_image, mask=mask)\n",
    "\n",
    "    # Ekstraksi fitur RGB\n",
    "    rgb_image = cv2.cvtColor(masked_image, cv2.COLOR_BGR2RGB)\n",
    "    flattened_rgb = rgb_image.flatten()\n",
    "    mean_rgb = np.mean(rgb_image, axis=(0, 1))\n",
    "    mode_rgb = np.argmax(np.bincount(flattened_rgb))\n",
    "    median_rgb = np.median(flattened_rgb)\n",
    "    features_rgb = np.concatenate((flattened_rgb, mean_rgb, [mode_rgb], [median_rgb]))\n",
    "\n",
    "    # Ekstraksi fitur HSV\n",
    "    hsv_image = cv2.cvtColor(masked_image, cv2.COLOR_BGR2HSV)\n",
    "    flattened_hsv = hsv_image.flatten()\n",
    "    mean_hsv = np.mean(hsv_image, axis=(0, 1))\n",
    "    mode_hsv = np.argmax(np.bincount(flattened_hsv))\n",
    "    median_hsv = np.median(flattened_hsv)\n",
    "    features_hsv = np.concatenate((flattened_hsv, mean_hsv, [mode_hsv], [median_hsv]))\n",
    "\n",
    "    # Ekstraksi fitur Grayscale\n",
    "    gray_image = cv2.cvtColor(masked_image, cv2.COLOR_BGR2GRAY)\n",
    "    flattened_gray = gray_image.flatten()\n",
    "    mean_gray = np.mean(gray_image)\n",
    "    mode_gray = np.argmax(np.bincount(flattened_gray))\n",
    "    median_gray = np.median(flattened_gray)\n",
    "    features_gray = np.concatenate((flattened_gray, [mean_gray], [mode_gray], [median_gray]))\n",
    "\n",
    "    # Ekstraksi histogram\n",
    "    hist = cv2.calcHist([masked_image], [0, 1, 2], None, [8, 8, 8], [0, 256, 0, 256, 0, 256])\n",
    "    hist_flattened = hist.flatten()\n",
    "\n",
    "    # Menggabungkan fitur RGB, HSV, Grayscale, dan histogram\n",
    "    features = np.concatenate((features_rgb, features_hsv, features_gray, hist_flattened))\n",
    "\n",
    "    # Melakukan prediksi\n",
    "    label_index = knn_model.predict([features])[0]\n",
    "    predicted_label = label_mapping[label_index]\n",
    "\n",
    "    return predicted_label"
   ]
  },
  {
   "cell_type": "code",
   "execution_count": 4,
   "metadata": {},
   "outputs": [],
   "source": [
    "# Memuat model KNN dan label mapping\n",
    "knn_model_custom = load_model()"
   ]
  },
  {
   "cell_type": "code",
   "execution_count": 5,
   "metadata": {},
   "outputs": [],
   "source": [
    "# Menentukan path gambar yang ingin diuji\n",
    "image_path = \"./../dataset_nitrogen_test/2/SWAPT1_042.jpg\""
   ]
  },
  {
   "cell_type": "code",
   "execution_count": 6,
   "metadata": {},
   "outputs": [],
   "source": [
    "# Melakukan klasifikasi gambar\n",
    "predicted_label = classify_image(image_path, knn_model_custom)"
   ]
  },
  {
   "cell_type": "code",
   "execution_count": 7,
   "metadata": {},
   "outputs": [
    {
     "name": "stdout",
     "output_type": "stream",
     "text": [
      "Predicted Label: 2\n"
     ]
    }
   ],
   "source": [
    "# Menampilkan hasil klasifikasi\n",
    "print(\"Predicted Label:\", predicted_label)"
   ]
  }
 ],
 "metadata": {
  "kernelspec": {
   "display_name": "Python 3",
   "language": "python",
   "name": "python3"
  },
  "language_info": {
   "codemirror_mode": {
    "name": "ipython",
    "version": 3
   },
   "file_extension": ".py",
   "mimetype": "text/x-python",
   "name": "python",
   "nbconvert_exporter": "python",
   "pygments_lexer": "ipython3",
   "version": "3.10.11"
  },
  "orig_nbformat": 4
 },
 "nbformat": 4,
 "nbformat_minor": 2
}
